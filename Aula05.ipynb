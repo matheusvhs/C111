{
 "cells": [
  {
   "metadata": {
    "ExecuteTime": {
     "end_time": "2025-08-28T23:10:47.562749Z",
     "start_time": "2025-08-28T23:10:47.094805Z"
    }
   },
   "cell_type": "code",
   "source": "!pip install pandas",
   "id": "6bd1e3628178ac3e",
   "outputs": [
    {
     "name": "stdout",
     "output_type": "stream",
     "text": [
      "Requirement already satisfied: pandas in /opt/anaconda3/envs/c111/lib/python3.12/site-packages (2.3.1)\r\n",
      "Requirement already satisfied: numpy>=1.26.0 in /opt/anaconda3/envs/c111/lib/python3.12/site-packages (from pandas) (2.3.2)\r\n",
      "Requirement already satisfied: python-dateutil>=2.8.2 in /opt/anaconda3/envs/c111/lib/python3.12/site-packages (from pandas) (2.9.0.post0)\r\n",
      "Requirement already satisfied: pytz>=2020.1 in /opt/anaconda3/envs/c111/lib/python3.12/site-packages (from pandas) (2025.2)\r\n",
      "Requirement already satisfied: tzdata>=2022.7 in /opt/anaconda3/envs/c111/lib/python3.12/site-packages (from pandas) (2025.2)\r\n",
      "Requirement already satisfied: six>=1.5 in /opt/anaconda3/envs/c111/lib/python3.12/site-packages (from python-dateutil>=2.8.2->pandas) (1.17.0)\r\n"
     ]
    }
   ],
   "execution_count": 33
  },
  {
   "cell_type": "code",
   "id": "initial_id",
   "metadata": {
    "collapsed": true,
    "ExecuteTime": {
     "end_time": "2025-08-28T22:57:27.575006Z",
     "start_time": "2025-08-28T22:57:27.572554Z"
    }
   },
   "source": [
    "import pandas as pd\n",
    "import numpy as np"
   ],
   "outputs": [],
   "execution_count": 19
  },
  {
   "metadata": {
    "ExecuteTime": {
     "end_time": "2025-08-28T22:47:51.033060Z",
     "start_time": "2025-08-28T22:47:51.029824Z"
    }
   },
   "cell_type": "code",
   "source": [
    "labels = ['a', 'b', 'c']\n",
    "dados = [10, 20, 30]\n",
    "s = pd.Series(data=dados, index=labels)\n",
    "print(s)\n",
    "print(s['a'])"
   ],
   "id": "101366842f49db14",
   "outputs": [
    {
     "name": "stdout",
     "output_type": "stream",
     "text": [
      "a    10\n",
      "b    20\n",
      "c    30\n",
      "dtype: int64\n",
      "10\n"
     ]
    }
   ],
   "execution_count": 9
  },
  {
   "metadata": {
    "ExecuteTime": {
     "end_time": "2025-08-28T22:57:12.379552Z",
     "start_time": "2025-08-28T22:57:12.374143Z"
    }
   },
   "cell_type": "code",
   "source": [
    "s1 = pd.Series({'a': 10, 'b': 20, 'c': 30})\n",
    "s2 = pd.Series({'a': 10, 'c': 50, 'd': 80})\n",
    "print(s1 + s2)\n",
    "print(s1.add(s2, fill_value=0))\n"
   ],
   "id": "65cec6a79d9d2b85",
   "outputs": [
    {
     "name": "stdout",
     "output_type": "stream",
     "text": [
      "a    20.0\n",
      "b     NaN\n",
      "c    80.0\n",
      "d     NaN\n",
      "dtype: float64\n",
      "a    20.0\n",
      "b    20.0\n",
      "c    80.0\n",
      "d    80.0\n",
      "dtype: float64\n"
     ]
    }
   ],
   "execution_count": 18
  },
  {
   "metadata": {
    "ExecuteTime": {
     "end_time": "2025-08-28T22:57:40.792360Z",
     "start_time": "2025-08-28T22:57:40.789600Z"
    }
   },
   "cell_type": "code",
   "source": "print(np.sum(s1))\n",
   "id": "4beba8d806584c4c",
   "outputs": [
    {
     "name": "stdout",
     "output_type": "stream",
     "text": [
      "60\n"
     ]
    }
   ],
   "execution_count": 21
  },
  {
   "metadata": {
    "ExecuteTime": {
     "end_time": "2025-08-28T23:08:34.618502Z",
     "start_time": "2025-08-28T23:08:34.615047Z"
    }
   },
   "cell_type": "code",
   "source": [
    "# DataFrame\n",
    "np.random.seed(10)\n",
    "df = pd.DataFrame(\n",
    "    index=['A', 'B', 'C', 'D', 'E'],\n",
    "    columns=['W', 'X', 'Y', 'Z'],\n",
    "    data=np.random.randint(1, 50, size=(5, 4))\n",
    ")\n",
    "\n",
    "print(df, '\\n')\n",
    "print(df['W'], '\\n')\n",
    "print(df['W']['A'], '\\n')\n"
   ],
   "id": "1598b8a168a3628a",
   "outputs": [
    {
     "name": "stdout",
     "output_type": "stream",
     "text": [
      "    W   X   Y   Z\n",
      "A  10  37  16   1\n",
      "B  29  26  30  49\n",
      "C  30   9  10   1\n",
      "D  43  41  37  17\n",
      "E  37  48  12  25 \n",
      "\n",
      "A    10\n",
      "B    29\n",
      "C    30\n",
      "D    43\n",
      "E    37\n",
      "Name: W, dtype: int64 \n",
      "\n",
      "10 \n",
      "\n"
     ]
    }
   ],
   "execution_count": 32
  },
  {
   "metadata": {
    "ExecuteTime": {
     "end_time": "2025-08-28T23:19:16.399619Z",
     "start_time": "2025-08-28T23:19:16.394379Z"
    }
   },
   "cell_type": "code",
   "source": [
    "#loc e iloc\n",
    "print(df.loc[['A', 'B'],['X','Y','Z']], '\\n')\n",
    "print(df.iloc[0:2, 1:])"
   ],
   "id": "20ae2e6b380da6d0",
   "outputs": [
    {
     "name": "stdout",
     "output_type": "stream",
     "text": [
      "    X   Y   Z\n",
      "A  37  16   1\n",
      "B  26  30  49 \n",
      "\n",
      "    X   Y   Z\n",
      "A  37  16   1\n",
      "B  26  30  49\n"
     ]
    }
   ],
   "execution_count": 39
  },
  {
   "metadata": {},
   "cell_type": "code",
   "outputs": [],
   "execution_count": null,
   "source": "",
   "id": "af71fb1aaffba3f1"
  }
 ],
 "metadata": {
  "kernelspec": {
   "display_name": "Python 3",
   "language": "python",
   "name": "python3"
  },
  "language_info": {
   "codemirror_mode": {
    "name": "ipython",
    "version": 2
   },
   "file_extension": ".py",
   "mimetype": "text/x-python",
   "name": "python",
   "nbconvert_exporter": "python",
   "pygments_lexer": "ipython2",
   "version": "2.7.6"
  }
 },
 "nbformat": 4,
 "nbformat_minor": 5
}
