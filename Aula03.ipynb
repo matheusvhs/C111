{
 "cells": [
  {
   "metadata": {},
   "cell_type": "markdown",
   "source": [
    "# Aula 03 - Armazenamento de dados\n",
    "\n",
    " ---\n",
    "\n",
    "## Tuplas:\n",
    "\n"
   ],
   "id": "77e7647b3f0f33ef"
  },
  {
   "metadata": {},
   "cell_type": "code",
   "outputs": [],
   "execution_count": null,
   "source": [
    "# Tuplas são imutáveis, ou seja, não podem ser alteradas após a criação\n",
    "# print([pessoa['nome'] for pessoa in registro])Tuplas são definidas com parênteses ()\n",
    "# Tuplas podem conter diferentes tipos de dados\n",
    "# Tuplas são iteráveis e podem ser percorridas com ‘loops’\n",
    "# Tuplas servem para armazenar dados que não precisam ser alterados\n",
    "# Tuplas podem conter duplicatas e a ordem dos elementos é mantida"
   ],
   "id": "71f6ff1197057985"
  },
  {
   "metadata": {},
   "cell_type": "code",
   "outputs": [],
   "execution_count": null,
   "source": [
    "# Exemplo de tupla com nomes\n",
    "nomes = ('João', 'Maria', 'José', 'Ana', 'Pedro', 'Lucas', 'Laura', 'Carla', 'Rafael', 'Fernanda')"
   ],
   "id": "d6b3cdd063d76f01"
  },
  {
   "metadata": {
    "ExecuteTime": {
     "end_time": "2025-08-14T22:53:16.794885Z",
     "start_time": "2025-08-14T22:53:16.791959Z"
    }
   },
   "cell_type": "code",
   "outputs": [
    {
     "name": "stdout",
     "output_type": "stream",
     "text": [
      "('João', 'Maria', 'José', 'Ana', 'Pedro', 'Lucas', 'Laura', 'Carla', 'Rafael', 'Fernanda')\n"
     ]
    }
   ],
   "execution_count": 33,
   "source": "print(nomes)",
   "id": "a9ea91653d6adb9c"
  },
  {
   "metadata": {
    "ExecuteTime": {
     "end_time": "2025-08-14T22:53:16.806781Z",
     "start_time": "2025-08-14T22:53:16.804612Z"
    }
   },
   "cell_type": "code",
   "outputs": [
    {
     "name": "stdout",
     "output_type": "stream",
     "text": [
      "('João', 'Maria', 'José', 'Ana', 'Pedro', 'Lucas', 'Laura', 'Carla', 'Rafael', 'Fernanda')\n",
      "10\n",
      "['Ana', 'Carla', 'Fernanda', 'José', 'João', 'Laura', 'Lucas', 'Maria', 'Pedro', 'Rafael']\n"
     ]
    }
   ],
   "execution_count": 34,
   "source": [
    "print(nomes[0:])\n",
    "print(len(nomes))\n",
    "print(sorted(nomes))"
   ],
   "id": "12afbda249ed19a0"
  },
  {
   "metadata": {},
   "cell_type": "markdown",
   "source": [
    "---\n",
    "\n",
    "## Listas:"
   ],
   "id": "f165dfd16b161a4b"
  },
  {
   "metadata": {},
   "cell_type": "code",
   "outputs": [],
   "execution_count": null,
   "source": [
    "# Listas são mutáveis, ou seja, podem ser alteradas após a criação\n",
    "# Listas são definidas com colchetes []\n",
    "# Listas podem conter diferentes tipos de dados\n",
    "# Listas são iteráveis e podem ser percorridas com ‘loops’\n",
    "# Listas servem para armazenar dados que precisam ser alterados\n",
    "# Listas podem conter duplicatas e a ordem dos elementos é mantida"
   ],
   "id": "e4ec2a410bf8a823"
  },
  {
   "metadata": {},
   "cell_type": "code",
   "outputs": [],
   "execution_count": null,
   "source": [
    "# Exemplo de lista com nomes\n",
    "nomes = ['João', 'Maria', 'José', 'Ana', 'Pedro', 'Lucas', 'Laura', 'Carla', 'Rafael', 'Fernanda']\n",
    "print(nomes)"
   ],
   "id": "63cf60b3451aa78a"
  },
  {
   "metadata": {
    "ExecuteTime": {
     "end_time": "2025-08-14T23:01:00.281308Z",
     "start_time": "2025-08-14T23:01:00.279126Z"
    }
   },
   "cell_type": "code",
   "outputs": [
    {
     "name": "stdout",
     "output_type": "stream",
     "text": [
      "['João', 'Maria', 'José', 'Ana', 'Pedro', 'Lucas', 'Laura', 'Carla', 'Rafael', 'Fernanda', 'Carlos']\n"
     ]
    }
   ],
   "execution_count": 50,
   "source": [
    "nomes.append('Carlos')\n",
    "print(nomes)"
   ],
   "id": "f205ea0078a2d930"
  },
  {
   "metadata": {
    "ExecuteTime": {
     "end_time": "2025-08-14T23:01:00.297189Z",
     "start_time": "2025-08-14T23:01:00.295026Z"
    }
   },
   "cell_type": "code",
   "outputs": [
    {
     "name": "stdout",
     "output_type": "stream",
     "text": [
      "['João', 'Mariana', 'José', 'Ana', 'Pedro', 'Lucas', 'Laura', 'Carla', 'Rafael', 'Fernanda', 'Carlos']\n"
     ]
    }
   ],
   "execution_count": 51,
   "source": [
    "nomes[1] = 'Mariana'\n",
    "print(nomes)"
   ],
   "id": "e464ad31314f36bf"
  },
  {
   "metadata": {
    "ExecuteTime": {
     "end_time": "2025-08-14T23:01:00.304636Z",
     "start_time": "2025-08-14T23:01:00.302950Z"
    }
   },
   "cell_type": "code",
   "outputs": [
    {
     "name": "stdout",
     "output_type": "stream",
     "text": [
      "['Charlotte', 'João', 'Mariana', 'José', 'Ana', 'Pedro', 'Lucas', 'Laura', 'Carla', 'Rafael', 'Fernanda', 'Carlos']\n"
     ]
    }
   ],
   "execution_count": 52,
   "source": [
    "nomes.insert(0, 'Charlotte')\n",
    "print(nomes)"
   ],
   "id": "e9f1e824e068064d"
  },
  {
   "metadata": {
    "ExecuteTime": {
     "end_time": "2025-08-14T23:01:00.314854Z",
     "start_time": "2025-08-14T23:01:00.313111Z"
    }
   },
   "cell_type": "code",
   "outputs": [
    {
     "name": "stdout",
     "output_type": "stream",
     "text": [
      "['Ana', 'Carla', 'Carlos', 'Charlotte', 'Fernanda', 'João', 'Laura', 'Lucas', 'Mariana', 'Pedro', 'Rafael']\n"
     ]
    }
   ],
   "execution_count": 53,
   "source": [
    "nomes.remove('José')\n",
    "nomes.sort()\n",
    "print(nomes)"
   ],
   "id": "42bc0a790ee594a2"
  },
  {
   "metadata": {},
   "cell_type": "markdown",
   "source": [
    "---\n",
    "## Conjuntos:"
   ],
   "id": "57f94e01fbe9525b"
  },
  {
   "metadata": {},
   "cell_type": "code",
   "outputs": [],
   "execution_count": null,
   "source": [
    "# Conjuntos são coleções de elementos únicos, ou seja, não permitem duplicatas\n",
    "# Conjuntos são definidos com chaves {}\n",
    "# Conjuntos são mutáveis, mas os elementos dentro deles devem ser imutáveis\n",
    "# Conjuntos servem para armazenar dados que não precisam de ordem e não permitem duplicatas\n",
    "# Conjuntos são iteráveis e podem ser percorridos com ‘loops’\n",
    "# Conjuntos suportam operações matemáticas como união, interseção e diferença"
   ],
   "id": "d0e6015dd2aae50b"
  },
  {
   "metadata": {},
   "cell_type": "code",
   "outputs": [],
   "execution_count": null,
   "source": [
    "# Exemplo de conjunto com nomes\n",
    "nomes = {'João', 'Maria', 'José', 'Ana', 'Ana', 'Lucas', 'Carla', 'Carla', 'Rafael', 'Fernanda'}\n",
    "print(nomes)"
   ],
   "id": "30b4d56606eb0a98"
  },
  {
   "metadata": {
    "ExecuteTime": {
     "end_time": "2025-08-14T23:04:26.907110Z",
     "start_time": "2025-08-14T23:04:26.905008Z"
    }
   },
   "cell_type": "code",
   "outputs": [
    {
     "name": "stdout",
     "output_type": "stream",
     "text": [
      "{'João', 'José', 'Lucas', 'Fernanda', 'Ana', 'Carla', 'Carlos', 'Rafael', 'Maria'}\n"
     ]
    }
   ],
   "execution_count": 57,
   "source": [
    "nomes.add('Carlos')\n",
    "print(nomes)"
   ],
   "id": "564cfc92f0018e00"
  },
  {
   "metadata": {
    "ExecuteTime": {
     "end_time": "2025-08-14T23:04:42.946061Z",
     "start_time": "2025-08-14T23:04:42.942593Z"
    }
   },
   "cell_type": "code",
   "outputs": [
    {
     "name": "stdout",
     "output_type": "stream",
     "text": [
      "{'João', 'Lucas', 'Fernanda', 'Ana', 'Carla', 'Carlos', 'Rafael', 'Maria'}\n"
     ]
    }
   ],
   "execution_count": 58,
   "source": [
    "nomes.remove('José')\n",
    "print(nomes)"
   ],
   "id": "f3e995fd0288c4c6"
  },
  {
   "metadata": {
    "ExecuteTime": {
     "end_time": "2025-08-14T23:10:42.699807Z",
     "start_time": "2025-08-14T23:10:42.696893Z"
    }
   },
   "cell_type": "code",
   "outputs": [
    {
     "name": "stdout",
     "output_type": "stream",
     "text": [
      "{1, 2, 3, 4, 6}\n",
      "{4}\n",
      "{1, 2}\n"
     ]
    }
   ],
   "execution_count": 61,
   "source": [
    "A = {1, 2, 4}\n",
    "B = {3, 4, 6,}\n",
    "print(A.union(B))  # União\n",
    "print(A.intersection(B))  # Interseção\n",
    "print(A.difference(B))  # Diferença"
   ],
   "id": "29fa44f4ce91b7f4"
  },
  {
   "metadata": {},
   "cell_type": "markdown",
   "source": [
    "---\n",
    "\n",
    "## Dicionários:"
   ],
   "id": "9db210923dbd748e"
  },
  {
   "metadata": {},
   "cell_type": "code",
   "outputs": [],
   "execution_count": null,
   "source": [
    "# Dicionários são coleções de pares chave-valor\n",
    "# Dicionários são definidos com chaves {}\n",
    "# Dicionários são mutáveis, ou seja, podem ser alterados após a criação\n",
    "# Dicionários são iteráveis e podem ser percorridos com ‘loops’\n",
    "# Dicionários servem para armazenar dados que precisam de uma chave para acesso\n",
    "# Dicionários podem conter diferentes tipos de dados como chaves e valores\n",
    "# Chaves devem ser únicas e imutáveis, enquanto os valores podem ser de qualquer tipo"
   ],
   "id": "c8f6f6459829890a"
  },
  {
   "metadata": {},
   "cell_type": "code",
   "outputs": [],
   "execution_count": null,
   "source": [
    "# Exemplo de dicionário com informações de uma pessoa\n",
    "dados = {\n",
    "    'nome': 'João',\n",
    "    'idade': 30,\n",
    "    'cidade': 'São Paulo',\n",
    "    'profissão': 'Engenheiro'\n",
    "}\n",
    "print(dados)"
   ],
   "id": "da70684e4160e1a4"
  },
  {
   "metadata": {
    "ExecuteTime": {
     "end_time": "2025-08-14T23:17:31.029009Z",
     "start_time": "2025-08-14T23:17:31.026024Z"
    }
   },
   "cell_type": "code",
   "outputs": [
    {
     "name": "stdout",
     "output_type": "stream",
     "text": [
      "João\n",
      "dict_keys(['nome', 'idade', 'cidade', 'profissão'])\n"
     ]
    }
   ],
   "execution_count": 65,
   "source": [
    "print(dados['nome'])\n",
    "print(dados.keys())"
   ],
   "id": "1b04f975baaa100d"
  },
  {
   "metadata": {
    "ExecuteTime": {
     "end_time": "2025-08-14T23:18:16.057498Z",
     "start_time": "2025-08-14T23:18:16.054646Z"
    }
   },
   "cell_type": "code",
   "outputs": [],
   "execution_count": 67,
   "source": [
    "dados1 = {\n",
    "    'nome': 'Maria',\n",
    "    'idade': 25,\n",
    "    'sexo': 'Feminino'\n",
    "}\n",
    "\n",
    "dados2 = {\n",
    "    'nome': 'José',\n",
    "    'idade': 28,\n",
    "    'sexo': 'Masculino'\n",
    "}\n",
    "\n",
    "dados3 = {\n",
    "    'nome': 'Ana',\n",
    "    'idade': 22,\n",
    "    'sexo': 'Feminino'\n",
    "}"
   ],
   "id": "726ec0138ed92538"
  },
  {
   "metadata": {
    "ExecuteTime": {
     "end_time": "2025-08-14T23:20:44.494324Z",
     "start_time": "2025-08-14T23:20:44.491759Z"
    }
   },
   "cell_type": "code",
   "outputs": [
    {
     "name": "stdout",
     "output_type": "stream",
     "text": [
      "[{'nome': 'Maria', 'idade': 25, 'sexo': 'Feminino'}, {'nome': 'José', 'idade': 28, 'sexo': 'Masculino'}, {'nome': 'Ana', 'idade': 22, 'sexo': 'Feminino'}]\n"
     ]
    }
   ],
   "execution_count": 68,
   "source": [
    "registro = [dados1, dados2, dados3]\n",
    "print(registro)"
   ],
   "id": "2a939debe6913a72"
  },
  {
   "metadata": {
    "ExecuteTime": {
     "end_time": "2025-08-14T23:39:46.983433Z",
     "start_time": "2025-08-14T23:39:46.980252Z"
    }
   },
   "cell_type": "code",
   "outputs": [
    {
     "name": "stdout",
     "output_type": "stream",
     "text": [
      "Maria\n"
     ]
    }
   ],
   "execution_count": 89,
   "source": "print(registro[0]['nome'])",
   "id": "722bac9ab2404c42"
  },
  {
   "metadata": {
    "ExecuteTime": {
     "end_time": "2025-08-14T23:41:15.522780Z",
     "start_time": "2025-08-14T23:41:15.519244Z"
    }
   },
   "cell_type": "code",
   "outputs": [
    {
     "name": "stdout",
     "output_type": "stream",
     "text": [
      "['Maria', 'José', 'Ana']\n"
     ]
    }
   ],
   "execution_count": 90,
   "source": "print([pessoa['nome'] for pessoa in registro])",
   "id": "822cb22cfc654df7"
  }
 ],
 "metadata": {
  "kernelspec": {
   "display_name": "Python 3",
   "language": "python",
   "name": "python3"
  },
  "language_info": {
   "codemirror_mode": {
    "name": "ipython",
    "version": 2
   },
   "file_extension": ".py",
   "mimetype": "text/x-python",
   "name": "python",
   "nbconvert_exporter": "python",
   "pygments_lexer": "ipython2",
   "version": "2.7.6"
  }
 },
 "nbformat": 4,
 "nbformat_minor": 5
}
