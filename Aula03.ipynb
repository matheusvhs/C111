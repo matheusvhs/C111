{
 "cells": [
  {
   "metadata": {},
   "cell_type": "markdown",
   "source": [
    "# Aula 03 - Armazenamento de dados\n",
    "\n",
    " ---\n",
    "\n",
    "## Tuplas:\n",
    "\n"
   ],
   "id": "480531d00a291e0c"
  },
  {
   "metadata": {},
   "cell_type": "code",
   "outputs": [],
   "execution_count": null,
   "source": [
    "# Tuplas são imutáveis, ou seja, não podem ser alteradas após a criação\n",
    "# print([pessoa['nome'] for pessoa in registro])Tuplas são definidas com parênteses ()\n",
    "# Tuplas podem conter diferentes tipos de dados\n",
    "# Tuplas são iteráveis e podem ser percorridas com ‘loops’\n",
    "# Tuplas servem para armazenar dados que não precisam ser alterados\n",
    "# Tuplas podem conter duplicatas e a ordem dos elementos é mantida"
   ],
   "id": "db3b8ac0c3de8eb9"
  },
  {
   "metadata": {},
   "cell_type": "code",
   "outputs": [],
   "execution_count": null,
   "source": [
    "# Exemplo de tupla com nomes\n",
    "nomes = ('João', 'Maria', 'José', 'Ana', 'Pedro', 'Lucas', 'Laura', 'Carla', 'Rafael', 'Fernanda')"
   ],
   "id": "24351df820a788f6"
  },
  {
   "metadata": {
    "ExecuteTime": {
     "end_time": "2025-08-14T22:53:16.794885Z",
     "start_time": "2025-08-14T22:53:16.791959Z"
    }
   },
   "cell_type": "code",
   "source": "print(nomes)",
   "id": "ab8f781781f7bf5c",
   "outputs": [
    {
     "name": "stdout",
     "output_type": "stream",
     "text": [
      "('João', 'Maria', 'José', 'Ana', 'Pedro', 'Lucas', 'Laura', 'Carla', 'Rafael', 'Fernanda')\n"
     ]
    }
   ],
   "execution_count": 33
  },
  {
   "metadata": {
    "ExecuteTime": {
     "end_time": "2025-08-14T22:53:16.806781Z",
     "start_time": "2025-08-14T22:53:16.804612Z"
    }
   },
   "cell_type": "code",
   "source": [
    "print(nomes[0:])\n",
    "print(len(nomes))\n",
    "print(sorted(nomes))"
   ],
   "id": "67248c4b3980f5d1",
   "outputs": [
    {
     "name": "stdout",
     "output_type": "stream",
     "text": [
      "('João', 'Maria', 'José', 'Ana', 'Pedro', 'Lucas', 'Laura', 'Carla', 'Rafael', 'Fernanda')\n",
      "10\n",
      "['Ana', 'Carla', 'Fernanda', 'José', 'João', 'Laura', 'Lucas', 'Maria', 'Pedro', 'Rafael']\n"
     ]
    }
   ],
   "execution_count": 34
  },
  {
   "metadata": {},
   "cell_type": "markdown",
   "source": [
    "---\n",
    "\n",
    "## Listas:"
   ],
   "id": "514e7b4fa7867423"
  },
  {
   "metadata": {},
   "cell_type": "code",
   "outputs": [],
   "execution_count": null,
   "source": [
    "# Listas são mutáveis, ou seja, podem ser alteradas após a criação\n",
    "# Listas são definidas com colchetes []\n",
    "# Listas podem conter diferentes tipos de dados\n",
    "# Listas são iteráveis e podem ser percorridas com ‘loops’\n",
    "# Listas servem para armazenar dados que precisam ser alterados\n",
    "# Listas podem conter duplicatas e a ordem dos elementos é mantida"
   ],
   "id": "626f773994a8f791"
  },
  {
   "metadata": {},
   "cell_type": "code",
   "outputs": [],
   "execution_count": null,
   "source": [
    "# Exemplo de lista com nomes\n",
    "nomes = ['João', 'Maria', 'José', 'Ana', 'Pedro', 'Lucas', 'Laura', 'Carla', 'Rafael', 'Fernanda']\n",
    "print(nomes)"
   ],
   "id": "6da443e1de4dfba4"
  },
  {
   "metadata": {
    "ExecuteTime": {
     "end_time": "2025-08-14T23:01:00.281308Z",
     "start_time": "2025-08-14T23:01:00.279126Z"
    }
   },
   "cell_type": "code",
   "source": [
    "nomes.append('Carlos')\n",
    "print(nomes)"
   ],
   "id": "e7602b80a7dd589e",
   "outputs": [
    {
     "name": "stdout",
     "output_type": "stream",
     "text": [
      "['João', 'Maria', 'José', 'Ana', 'Pedro', 'Lucas', 'Laura', 'Carla', 'Rafael', 'Fernanda', 'Carlos']\n"
     ]
    }
   ],
   "execution_count": 50
  },
  {
   "metadata": {
    "ExecuteTime": {
     "end_time": "2025-08-14T23:01:00.297189Z",
     "start_time": "2025-08-14T23:01:00.295026Z"
    }
   },
   "cell_type": "code",
   "source": [
    "nomes[1] = 'Mariana'\n",
    "print(nomes)"
   ],
   "id": "984146f66710babe",
   "outputs": [
    {
     "name": "stdout",
     "output_type": "stream",
     "text": [
      "['João', 'Mariana', 'José', 'Ana', 'Pedro', 'Lucas', 'Laura', 'Carla', 'Rafael', 'Fernanda', 'Carlos']\n"
     ]
    }
   ],
   "execution_count": 51
  },
  {
   "metadata": {
    "ExecuteTime": {
     "end_time": "2025-08-14T23:01:00.304636Z",
     "start_time": "2025-08-14T23:01:00.302950Z"
    }
   },
   "cell_type": "code",
   "source": [
    "nomes.insert(0, 'Charlotte')\n",
    "print(nomes)"
   ],
   "id": "eebb286fe5ba5b65",
   "outputs": [
    {
     "name": "stdout",
     "output_type": "stream",
     "text": [
      "['Charlotte', 'João', 'Mariana', 'José', 'Ana', 'Pedro', 'Lucas', 'Laura', 'Carla', 'Rafael', 'Fernanda', 'Carlos']\n"
     ]
    }
   ],
   "execution_count": 52
  },
  {
   "metadata": {
    "ExecuteTime": {
     "end_time": "2025-08-14T23:01:00.314854Z",
     "start_time": "2025-08-14T23:01:00.313111Z"
    }
   },
   "cell_type": "code",
   "source": [
    "nomes.remove('José')\n",
    "nomes.sort()\n",
    "print(nomes)"
   ],
   "id": "462af2b045556246",
   "outputs": [
    {
     "name": "stdout",
     "output_type": "stream",
     "text": [
      "['Ana', 'Carla', 'Carlos', 'Charlotte', 'Fernanda', 'João', 'Laura', 'Lucas', 'Mariana', 'Pedro', 'Rafael']\n"
     ]
    }
   ],
   "execution_count": 53
  },
  {
   "metadata": {},
   "cell_type": "markdown",
   "source": [
    "---\n",
    "## Conjuntos:"
   ],
   "id": "2fd3a96bf1cd28bc"
  },
  {
   "metadata": {},
   "cell_type": "code",
   "outputs": [],
   "execution_count": null,
   "source": [
    "# Conjuntos são coleções de elementos únicos, ou seja, não permitem duplicatas\n",
    "# Conjuntos são definidos com chaves {}\n",
    "# Conjuntos são mutáveis, mas os elementos dentro deles devem ser imutáveis\n",
    "# Conjuntos servem para armazenar dados que não precisam de ordem e não permitem duplicatas\n",
    "# Conjuntos são iteráveis e podem ser percorridos com ‘loops’\n",
    "# Conjuntos suportam operações matemáticas como união, interseção e diferença"
   ],
   "id": "41688aca99c3eacf"
  },
  {
   "metadata": {},
   "cell_type": "code",
   "outputs": [],
   "execution_count": null,
   "source": [
    "# Exemplo de conjunto com nomes\n",
    "nomes = {'João', 'Maria', 'José', 'Ana', 'Ana', 'Lucas', 'Carla', 'Carla', 'Rafael', 'Fernanda'}\n",
    "print(nomes)"
   ],
   "id": "850d0ccb0a31b0fe"
  },
  {
   "metadata": {
    "ExecuteTime": {
     "end_time": "2025-08-14T23:04:26.907110Z",
     "start_time": "2025-08-14T23:04:26.905008Z"
    }
   },
   "cell_type": "code",
   "source": [
    "nomes.add('Carlos')\n",
    "print(nomes)"
   ],
   "id": "175b88c5fa79a7e3",
   "outputs": [
    {
     "name": "stdout",
     "output_type": "stream",
     "text": [
      "{'João', 'José', 'Lucas', 'Fernanda', 'Ana', 'Carla', 'Carlos', 'Rafael', 'Maria'}\n"
     ]
    }
   ],
   "execution_count": 57
  },
  {
   "metadata": {
    "ExecuteTime": {
     "end_time": "2025-08-14T23:04:42.946061Z",
     "start_time": "2025-08-14T23:04:42.942593Z"
    }
   },
   "cell_type": "code",
   "source": [
    "nomes.remove('José')\n",
    "print(nomes)"
   ],
   "id": "45aad0d70a139164",
   "outputs": [
    {
     "name": "stdout",
     "output_type": "stream",
     "text": [
      "{'João', 'Lucas', 'Fernanda', 'Ana', 'Carla', 'Carlos', 'Rafael', 'Maria'}\n"
     ]
    }
   ],
   "execution_count": 58
  },
  {
   "metadata": {
    "ExecuteTime": {
     "end_time": "2025-08-14T23:10:42.699807Z",
     "start_time": "2025-08-14T23:10:42.696893Z"
    }
   },
   "cell_type": "code",
   "source": [
    "A = {1, 2, 4}\n",
    "B = {3, 4, 6,}\n",
    "print(A.union(B))  # União\n",
    "print(A.intersection(B))  # Interseção\n",
    "print(A.difference(B))  # Diferença"
   ],
   "id": "32e6eaf628a693d",
   "outputs": [
    {
     "name": "stdout",
     "output_type": "stream",
     "text": [
      "{1, 2, 3, 4, 6}\n",
      "{4}\n",
      "{1, 2}\n"
     ]
    }
   ],
   "execution_count": 61
  },
  {
   "metadata": {},
   "cell_type": "markdown",
   "source": [
    "---\n",
    "\n",
    "## Dicionários:"
   ],
   "id": "44cce20b17e9b5d9"
  },
  {
   "metadata": {},
   "cell_type": "code",
   "outputs": [],
   "execution_count": null,
   "source": [
    "# Dicionários são coleções de pares chave-valor\n",
    "# Dicionários são definidos com chaves {}\n",
    "# Dicionários são mutáveis, ou seja, podem ser alterados após a criação\n",
    "# Dicionários são iteráveis e podem ser percorridos com ‘loops’\n",
    "# Dicionários servem para armazenar dados que precisam de uma chave para acesso\n",
    "# Dicionários podem conter diferentes tipos de dados como chaves e valores\n",
    "# Chaves devem ser únicas e imutáveis, enquanto os valores podem ser de qualquer tipo"
   ],
   "id": "70622ed91d7e37e2"
  },
  {
   "metadata": {},
   "cell_type": "code",
   "outputs": [],
   "execution_count": null,
   "source": [
    "# Exemplo de dicionário com informações de uma pessoa\n",
    "dados = {\n",
    "    'nome': 'João',\n",
    "    'idade': 30,\n",
    "    'cidade': 'São Paulo',\n",
    "    'profissão': 'Engenheiro'\n",
    "}\n",
    "print(dados)"
   ],
   "id": "e8f7ed2ac5640860"
  },
  {
   "metadata": {
    "ExecuteTime": {
     "end_time": "2025-08-14T23:17:31.029009Z",
     "start_time": "2025-08-14T23:17:31.026024Z"
    }
   },
   "cell_type": "code",
   "source": [
    "print(dados['nome'])\n",
    "print(dados.keys())"
   ],
   "id": "94898c26fe95e47b",
   "outputs": [
    {
     "name": "stdout",
     "output_type": "stream",
     "text": [
      "João\n",
      "dict_keys(['nome', 'idade', 'cidade', 'profissão'])\n"
     ]
    }
   ],
   "execution_count": 65
  },
  {
   "metadata": {
    "ExecuteTime": {
     "end_time": "2025-08-14T23:18:16.057498Z",
     "start_time": "2025-08-14T23:18:16.054646Z"
    }
   },
   "cell_type": "code",
   "source": [
    "dados1 = {\n",
    "    'nome': 'Maria',\n",
    "    'idade': 25,\n",
    "    'sexo': 'Feminino'\n",
    "}\n",
    "\n",
    "dados2 = {\n",
    "    'nome': 'José',\n",
    "    'idade': 28,\n",
    "    'sexo': 'Masculino'\n",
    "}\n",
    "\n",
    "dados3 = {\n",
    "    'nome': 'Ana',\n",
    "    'idade': 22,\n",
    "    'sexo': 'Feminino'\n",
    "}"
   ],
   "id": "b56648d3ba8a5346",
   "outputs": [],
   "execution_count": 67
  },
  {
   "metadata": {
    "ExecuteTime": {
     "end_time": "2025-08-14T23:20:44.494324Z",
     "start_time": "2025-08-14T23:20:44.491759Z"
    }
   },
   "cell_type": "code",
   "source": [
    "registro = [dados1, dados2, dados3]\n",
    "print(registro)"
   ],
   "id": "bf64ab59b8337120",
   "outputs": [
    {
     "name": "stdout",
     "output_type": "stream",
     "text": [
      "[{'nome': 'Maria', 'idade': 25, 'sexo': 'Feminino'}, {'nome': 'José', 'idade': 28, 'sexo': 'Masculino'}, {'nome': 'Ana', 'idade': 22, 'sexo': 'Feminino'}]\n"
     ]
    }
   ],
   "execution_count": 68
  },
  {
   "metadata": {
    "ExecuteTime": {
     "end_time": "2025-08-14T23:39:46.983433Z",
     "start_time": "2025-08-14T23:39:46.980252Z"
    }
   },
   "cell_type": "code",
   "source": "print(registro[0]['nome'])",
   "id": "c8e3885699201027",
   "outputs": [
    {
     "name": "stdout",
     "output_type": "stream",
     "text": [
      "Maria\n"
     ]
    }
   ],
   "execution_count": 89
  },
  {
   "metadata": {
    "ExecuteTime": {
     "end_time": "2025-08-14T23:41:15.522780Z",
     "start_time": "2025-08-14T23:41:15.519244Z"
    }
   },
   "cell_type": "code",
   "source": "print([pessoa['nome'] for pessoa in registro])",
   "id": "ce454759637a5e75",
   "outputs": [
    {
     "name": "stdout",
     "output_type": "stream",
     "text": [
      "['Maria', 'José', 'Ana']\n"
     ]
    }
   ],
   "execution_count": 90
  }
 ],
 "metadata": {
  "kernelspec": {
   "display_name": "Python 3",
   "language": "python",
   "name": "python3"
  },
  "language_info": {
   "codemirror_mode": {
    "name": "ipython",
    "version": 2
   },
   "file_extension": ".py",
   "mimetype": "text/x-python",
   "name": "python",
   "nbconvert_exporter": "python",
   "pygments_lexer": "ipython2",
   "version": "2.7.6"
  }
 },
 "nbformat": 4,
 "nbformat_minor": 5
}
