{
 "cells": [
  {
   "metadata": {},
   "cell_type": "markdown",
   "source": "# Aula 02 - Variáveis, Tipos de Dados e Operadores",
   "id": "c5eb2bd1e2813762"
  },
  {
   "metadata": {
    "ExecuteTime": {
     "end_time": "2025-08-07T23:45:32.375769Z",
     "start_time": "2025-08-07T23:45:32.371987Z"
    }
   },
   "cell_type": "code",
   "source": "nome = \"Matheus\"",
   "id": "4e76dae8d4606dc0",
   "outputs": [],
   "execution_count": 65
  },
  {
   "metadata": {
    "ExecuteTime": {
     "end_time": "2025-08-07T23:48:00.824986Z",
     "start_time": "2025-08-07T23:47:57.142827Z"
    }
   },
   "cell_type": "code",
   "source": [
    "import math\n",
    "\n",
    "a = float(input())\n",
    "\n",
    "print(a)\n",
    "\n",
    "print(math.trunc(a))"
   ],
   "id": "44d01517a33231d5",
   "outputs": [
    {
     "name": "stdout",
     "output_type": "stream",
     "text": [
      "5.5\n",
      "5\n"
     ]
    }
   ],
   "execution_count": 70
  },
  {
   "metadata": {
    "ExecuteTime": {
     "end_time": "2025-08-07T23:26:53.777049Z",
     "start_time": "2025-08-07T23:26:53.773317Z"
    }
   },
   "cell_type": "code",
   "source": [
    "print(math.ceil(a))\n",
    "\n",
    "print(math.floor(a))\n",
    "\n",
    "print(round(a))"
   ],
   "id": "3fb8f9ce598f9425",
   "outputs": [
    {
     "name": "stdout",
     "output_type": "stream",
     "text": [
      "5\n",
      "4\n",
      "4\n"
     ]
    }
   ],
   "execution_count": 47
  },
  {
   "metadata": {
    "ExecuteTime": {
     "end_time": "2025-08-07T23:45:37.427733Z",
     "start_time": "2025-08-07T23:45:37.423887Z"
    }
   },
   "cell_type": "code",
   "source": [
    "print(nome[0:5])\n",
    "print(nome[0:])\n",
    "print(nome[:5:2])\n",
    "print(len(nome))\n",
    "print(nome.count('M',0,len(nome)))\n",
    "print(nome.find('s'))\n"
   ],
   "id": "8134a5fe59a5a626",
   "outputs": [
    {
     "name": "stdout",
     "output_type": "stream",
     "text": [
      "Mathe\n",
      "Matheus\n",
      "Mte\n",
      "7\n",
      "1\n",
      "6\n"
     ]
    }
   ],
   "execution_count": 68
  }
 ],
 "metadata": {
  "kernelspec": {
   "display_name": "Python 3",
   "language": "python",
   "name": "python3"
  },
  "language_info": {
   "codemirror_mode": {
    "name": "ipython",
    "version": 2
   },
   "file_extension": ".py",
   "mimetype": "text/x-python",
   "name": "python",
   "nbconvert_exporter": "python",
   "pygments_lexer": "ipython2",
   "version": "2.7.6"
  }
 },
 "nbformat": 4,
 "nbformat_minor": 5
}
