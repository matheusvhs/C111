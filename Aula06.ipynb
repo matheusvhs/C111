{
 "cells": [
  {
   "metadata": {},
   "cell_type": "markdown",
   "source": "# Aula 06 - GROUPBY",
   "id": "cbc34f2bb8c15287"
  },
  {
   "cell_type": "code",
   "id": "initial_id",
   "metadata": {
    "collapsed": true,
    "ExecuteTime": {
     "end_time": "2025-09-04T23:06:34.572410Z",
     "start_time": "2025-09-04T23:06:34.569201Z"
    }
   },
   "source": "import pandas as pd",
   "outputs": [],
   "execution_count": 21
  },
  {
   "metadata": {
    "ExecuteTime": {
     "end_time": "2025-09-04T22:58:51.082586Z",
     "start_time": "2025-09-04T22:58:51.077303Z"
    }
   },
   "cell_type": "code",
   "source": [
    "# Criando um DataFrame\n",
    "data = {\n",
    "    'Categoria': ['A', 'A', 'B', 'B', 'C', 'A'],\n",
    "    'Valor': [10, 20, 30, 40, 50, 60]\n",
    "}\n",
    "df = pd.DataFrame(data)\n",
    "print(df)"
   ],
   "id": "1dd39c012e17e8d9",
   "outputs": [
    {
     "name": "stdout",
     "output_type": "stream",
     "text": [
      "  Categoria  Valor\n",
      "0         A     10\n",
      "1         A     20\n",
      "2         B     30\n",
      "3         B     40\n",
      "4         C     50\n",
      "5         A     60\n"
     ]
    }
   ],
   "execution_count": 4
  },
  {
   "metadata": {
    "ExecuteTime": {
     "end_time": "2025-09-04T22:58:52.403234Z",
     "start_time": "2025-09-04T22:58:52.400804Z"
    }
   },
   "cell_type": "code",
   "source": "grupo = df.groupby('Categoria')",
   "id": "2f4005cd45533387",
   "outputs": [],
   "execution_count": 5
  },
  {
   "metadata": {
    "ExecuteTime": {
     "end_time": "2025-09-04T22:58:53.334545Z",
     "start_time": "2025-09-04T22:58:53.331156Z"
    }
   },
   "cell_type": "code",
   "source": "grupo['Valor'].sum()",
   "id": "a20c6f5d33e6a2c2",
   "outputs": [
    {
     "data": {
      "text/plain": [
       "Categoria\n",
       "A    90\n",
       "B    70\n",
       "C    50\n",
       "Name: Valor, dtype: int64"
      ]
     },
     "execution_count": 6,
     "metadata": {},
     "output_type": "execute_result"
    }
   ],
   "execution_count": 6
  },
  {
   "metadata": {
    "ExecuteTime": {
     "end_time": "2025-09-04T22:58:54.730897Z",
     "start_time": "2025-09-04T22:58:54.724280Z"
    }
   },
   "cell_type": "code",
   "source": "print(df.groupby(\"Categoria\")[\"Valor\"].agg(['sum', 'mean', 'max']))",
   "id": "8640ad5d59f2ef48",
   "outputs": [
    {
     "name": "stdout",
     "output_type": "stream",
     "text": [
      "           sum  mean  max\n",
      "Categoria                \n",
      "A           90  30.0   60\n",
      "B           70  35.0   40\n",
      "C           50  50.0   50\n"
     ]
    }
   ],
   "execution_count": 7
  },
  {
   "metadata": {
    "ExecuteTime": {
     "end_time": "2025-09-04T22:59:22.882138Z",
     "start_time": "2025-09-04T22:59:22.876089Z"
    }
   },
   "cell_type": "code",
   "source": [
    "dfpaises = pd.read_csv('datasets/paises.csv',sep=';')\n",
    "\n"
   ],
   "id": "a899678bd99730f8",
   "outputs": [],
   "execution_count": 13
  },
  {
   "metadata": {
    "ExecuteTime": {
     "end_time": "2025-09-04T23:00:22.502240Z",
     "start_time": "2025-09-04T23:00:22.491856Z"
    }
   },
   "cell_type": "code",
   "source": [
    "group_region = dfpaises.groupby('Region')\n",
    "print(group_region.count())\n",
    "print(group_region['Region'].value_counts())"
   ],
   "id": "86d53cd7f1979388",
   "outputs": [
    {
     "name": "stdout",
     "output_type": "stream",
     "text": [
      "                                     Country  Population  Area (sq. mi.)  \\\n",
      "Region                                                                     \n",
      "ASIA (EX. NEAR EAST)                      28          28              28   \n",
      "BALTICS                                    3           3               3   \n",
      "C.W. OF IND. STATES                       12          12              12   \n",
      "EASTERN EUROPE                            12          12              12   \n",
      "LATIN AMER. & CARIB                       45          45              45   \n",
      "NEAR EAST                                 16          16              16   \n",
      "NORTHERN AFRICA                            6           6               6   \n",
      "NORTHERN AMERICA                           5           5               5   \n",
      "OCEANIA                                   21          21              21   \n",
      "SUB-SAHARAN AFRICA                        51          51              51   \n",
      "WESTERN EUROPE                            28          28              28   \n",
      "\n",
      "                                     Pop. Density (per sq. mi.)  \\\n",
      "Region                                                            \n",
      "ASIA (EX. NEAR EAST)                                         28   \n",
      "BALTICS                                                       3   \n",
      "C.W. OF IND. STATES                                          12   \n",
      "EASTERN EUROPE                                               12   \n",
      "LATIN AMER. & CARIB                                          45   \n",
      "NEAR EAST                                                    16   \n",
      "NORTHERN AFRICA                                               6   \n",
      "NORTHERN AMERICA                                              5   \n",
      "OCEANIA                                                      21   \n",
      "SUB-SAHARAN AFRICA                                           51   \n",
      "WESTERN EUROPE                                               28   \n",
      "\n",
      "                                     Coastline (coast/area ratio)  \\\n",
      "Region                                                              \n",
      "ASIA (EX. NEAR EAST)                                           28   \n",
      "BALTICS                                                         3   \n",
      "C.W. OF IND. STATES                                            12   \n",
      "EASTERN EUROPE                                                 12   \n",
      "LATIN AMER. & CARIB                                            45   \n",
      "NEAR EAST                                                      16   \n",
      "NORTHERN AFRICA                                                 6   \n",
      "NORTHERN AMERICA                                                5   \n",
      "OCEANIA                                                        21   \n",
      "SUB-SAHARAN AFRICA                                             51   \n",
      "WESTERN EUROPE                                                 28   \n",
      "\n",
      "                                     Net migration  \\\n",
      "Region                                               \n",
      "ASIA (EX. NEAR EAST)                            28   \n",
      "BALTICS                                          3   \n",
      "C.W. OF IND. STATES                             12   \n",
      "EASTERN EUROPE                                  12   \n",
      "LATIN AMER. & CARIB                             45   \n",
      "NEAR EAST                                       16   \n",
      "NORTHERN AFRICA                                  6   \n",
      "NORTHERN AMERICA                                 5   \n",
      "OCEANIA                                         21   \n",
      "SUB-SAHARAN AFRICA                              51   \n",
      "WESTERN EUROPE                                  28   \n",
      "\n",
      "                                     Infant mortality (per 1000 births)  \\\n",
      "Region                                                                    \n",
      "ASIA (EX. NEAR EAST)                                                 28   \n",
      "BALTICS                                                               3   \n",
      "C.W. OF IND. STATES                                                  12   \n",
      "EASTERN EUROPE                                                       12   \n",
      "LATIN AMER. & CARIB                                                  45   \n",
      "NEAR EAST                                                            16   \n",
      "NORTHERN AFRICA                                                       6   \n",
      "NORTHERN AMERICA                                                      5   \n",
      "OCEANIA                                                              21   \n",
      "SUB-SAHARAN AFRICA                                                   51   \n",
      "WESTERN EUROPE                                                       28   \n",
      "\n",
      "                                     GDP ($ per capita)  Literacy (%)  \\\n",
      "Region                                                                  \n",
      "ASIA (EX. NEAR EAST)                                 28            28   \n",
      "BALTICS                                               3             3   \n",
      "C.W. OF IND. STATES                                  12            12   \n",
      "EASTERN EUROPE                                       12            12   \n",
      "LATIN AMER. & CARIB                                  45            45   \n",
      "NEAR EAST                                            16            16   \n",
      "NORTHERN AFRICA                                       6             6   \n",
      "NORTHERN AMERICA                                      5             5   \n",
      "OCEANIA                                              21            21   \n",
      "SUB-SAHARAN AFRICA                                   51            51   \n",
      "WESTERN EUROPE                                       28            28   \n",
      "\n",
      "                                     Phones (per 1000)  Arable (%)  Crops (%)  \\\n",
      "Region                                                                          \n",
      "ASIA (EX. NEAR EAST)                                28          28         28   \n",
      "BALTICS                                              3           3          3   \n",
      "C.W. OF IND. STATES                                 12          12         12   \n",
      "EASTERN EUROPE                                      12          12         12   \n",
      "LATIN AMER. & CARIB                                 45          45         45   \n",
      "NEAR EAST                                           16          16         16   \n",
      "NORTHERN AFRICA                                      6           6          6   \n",
      "NORTHERN AMERICA                                     5           5          5   \n",
      "OCEANIA                                             21          21         21   \n",
      "SUB-SAHARAN AFRICA                                  51          51         51   \n",
      "WESTERN EUROPE                                      28          28         28   \n",
      "\n",
      "                                     Other (%)  Climate  Birthrate  Deathrate  \\\n",
      "Region                                                                          \n",
      "ASIA (EX. NEAR EAST)                        28       28         28         28   \n",
      "BALTICS                                      3        3          3          3   \n",
      "C.W. OF IND. STATES                         12       12         12         12   \n",
      "EASTERN EUROPE                              12       12         12         12   \n",
      "LATIN AMER. & CARIB                         45       45         45         45   \n",
      "NEAR EAST                                   16       16         16         16   \n",
      "NORTHERN AFRICA                              6        6          6          6   \n",
      "NORTHERN AMERICA                             5        5          5          5   \n",
      "OCEANIA                                     21       21         21         21   \n",
      "SUB-SAHARAN AFRICA                          51       51         51         51   \n",
      "WESTERN EUROPE                              28       28         28         28   \n",
      "\n",
      "                                     Agriculture  Industry  Service  \n",
      "Region                                                               \n",
      "ASIA (EX. NEAR EAST)                          28        28       28  \n",
      "BALTICS                                        3         3        3  \n",
      "C.W. OF IND. STATES                           12        12       12  \n",
      "EASTERN EUROPE                                12        12       12  \n",
      "LATIN AMER. & CARIB                           45        45       45  \n",
      "NEAR EAST                                     16        16       16  \n",
      "NORTHERN AFRICA                                6         6        6  \n",
      "NORTHERN AMERICA                               5         5        5  \n",
      "OCEANIA                                       21        21       21  \n",
      "SUB-SAHARAN AFRICA                            51        51       51  \n",
      "WESTERN EUROPE                                28        28       28  \n",
      "Region\n",
      "ASIA (EX. NEAR EAST)                   28\n",
      "BALTICS                                 3\n",
      "C.W. OF IND. STATES                    12\n",
      "EASTERN EUROPE                         12\n",
      "LATIN AMER. & CARIB                    45\n",
      "NEAR EAST                              16\n",
      "NORTHERN AFRICA                         6\n",
      "NORTHERN AMERICA                        5\n",
      "OCEANIA                                21\n",
      "SUB-SAHARAN AFRICA                     51\n",
      "WESTERN EUROPE                         28\n",
      "Name: count, dtype: int64\n"
     ]
    }
   ],
   "execution_count": 15
  },
  {
   "metadata": {
    "ExecuteTime": {
     "end_time": "2025-09-04T23:02:22.697708Z",
     "start_time": "2025-09-04T23:02:22.691052Z"
    }
   },
   "cell_type": "code",
   "source": [
    "group_region = dfpaises.groupby('Region')\n",
    "print(group_region.sum()[\"Population\"])"
   ],
   "id": "75b33da0932e9301",
   "outputs": [
    {
     "name": "stdout",
     "output_type": "stream",
     "text": [
      "Region\n",
      "ASIA (EX. NEAR EAST)                   3687982236\n",
      "BALTICS                                   7184974\n",
      "C.W. OF IND. STATES                     280081548\n",
      "EASTERN EUROPE                          119914717\n",
      "LATIN AMER. & CARIB                     561824599\n",
      "NEAR EAST                               195068377\n",
      "NORTHERN AFRICA                         161407133\n",
      "NORTHERN AMERICA                        331672307\n",
      "OCEANIA                                  33131662\n",
      "SUB-SAHARAN AFRICA                      749437000\n",
      "WESTERN EUROPE                          396339998\n",
      "Name: Population, dtype: int64\n"
     ]
    }
   ],
   "execution_count": 17
  },
  {
   "metadata": {
    "ExecuteTime": {
     "end_time": "2025-09-04T23:02:42.888687Z",
     "start_time": "2025-09-04T23:02:42.814082Z"
    }
   },
   "cell_type": "code",
   "source": [
    "group_region = dfpaises.groupby('Region')\n",
    "print(group_region.describe())"
   ],
   "id": "2a281ef46f9bccdb",
   "outputs": [
    {
     "name": "stdout",
     "output_type": "stream",
     "text": [
      "                                    Population                              \\\n",
      "                                         count          mean           std   \n",
      "Region                                                                       \n",
      "ASIA (EX. NEAR EAST)                      28.0  1.317137e+08  3.102610e+08   \n",
      "BALTICS                                    3.0  2.394991e+06  1.135572e+06   \n",
      "C.W. OF IND. STATES                       12.0  2.334013e+07  3.973450e+07   \n",
      "EASTERN EUROPE                            12.0  9.992893e+06  1.054246e+07   \n",
      "LATIN AMER. & CARIB                       45.0  1.248499e+07  3.235397e+07   \n",
      "NEAR EAST                                 16.0  1.219177e+07  1.819645e+07   \n",
      "NORTHERN AFRICA                            6.0  2.690119e+07  2.901349e+07   \n",
      "NORTHERN AMERICA                           5.0  6.633446e+07  1.305404e+08   \n",
      "OCEANIA                                   21.0  1.577698e+06  4.519602e+06   \n",
      "SUB-SAHARAN AFRICA                        51.0  1.469484e+07  2.309189e+07   \n",
      "WESTERN EUROPE                            28.0  1.415500e+07  2.315879e+07   \n",
      "\n",
      "                                                                        \\\n",
      "                                           min         25%         50%   \n",
      "Region                                                                   \n",
      "ASIA (EX. NEAR EAST)                  359008.0  5899398.25  26336502.5   \n",
      "BALTICS                              1324333.0  1799534.00   2274735.0   \n",
      "C.W. OF IND. STATES                  2976372.0  4947558.25   7641217.0   \n",
      "EASTERN EUROPE                       2010347.0  4266475.50   6412407.5   \n",
      "LATIN AMER. & CARIB                     9439.0   117848.00   1065842.0   \n",
      "NEAR EAST                             698585.0  2170984.00   3488139.5   \n",
      "NORTHERN AFRICA                       273008.0  6969319.00  21552552.5   \n",
      "NORTHERN AMERICA                        7026.0    56361.00     65773.0   \n",
      "OCEANIA                                11810.0    57794.00    114689.0   \n",
      "SUB-SAHARAN AFRICA                      7502.0  1540931.00   8090068.0   \n",
      "WESTERN EUROPE                         27928.0    74381.00   4921096.0   \n",
      "\n",
      "                                                               Area (sq. mi.)  \\\n",
      "                                             75%           max          count   \n",
      "Region                                                                          \n",
      "ASIA (EX. NEAR EAST)                 85669393.75  1.313974e+09           28.0   \n",
      "BALTICS                               2930320.50  3.585906e+06            3.0   \n",
      "C.W. OF IND. STATES                  18251716.50  1.428935e+08           12.0   \n",
      "EASTERN EUROPE                       10044864.25  3.853687e+07           12.0   \n",
      "LATIN AMER. & CARIB                   8989046.00  1.880782e+08           45.0   \n",
      "NEAR EAST                            19525067.75  7.041396e+07           16.0   \n",
      "NORTHERN AFRICA                      33163467.00  7.888701e+07            6.0   \n",
      "NORTHERN AMERICA                     33098932.00  2.984442e+08            5.0   \n",
      "OCEANIA                                274578.00  2.026408e+07           21.0   \n",
      "SUB-SAHARAN AFRICA                   15621837.00  1.318597e+08           51.0   \n",
      "WESTERN EUROPE                       10626417.00  8.242230e+07           28.0   \n",
      "\n",
      "                                                   ... Industry         \\\n",
      "                                             mean  ...      75%    max   \n",
      "Region                                             ...                   \n",
      "ASIA (EX. NEAR EAST)                 8.248826e+05  ...  0.40475  0.561   \n",
      "BALTICS                              5.833833e+04  ...  0.30950  0.325   \n",
      "C.W. OF IND. STATES                  1.841737e+06  ...  0.38150  0.457   \n",
      "EASTERN EUROPE                       9.601850e+04  ...  0.32675  0.393   \n",
      "LATIN AMER. & CARIB                  4.565352e+05  ...  0.31200  0.570   \n",
      "NEAR EAST                            2.722241e+05  ...  0.50550  0.801   \n",
      "NORTHERN AFRICA                      1.003148e+06  ...  0.46350  0.600   \n",
      "NORTHERN AMERICA                     4.356494e+06  ...  0.20400  0.294   \n",
      "OCEANIA                              4.057053e+05  ...  0.26200  0.584   \n",
      "SUB-SAHARAN AFRICA                   4.772825e+05  ...  0.30350  0.906   \n",
      "WESTERN EUROPE                       1.325171e+05  ...  0.29500  0.460   \n",
      "\n",
      "                                    Service                             \\\n",
      "                                      count      mean       std    min   \n",
      "Region                                                                   \n",
      "ASIA (EX. NEAR EAST)                   28.0  0.520107  0.166566  0.258   \n",
      "BALTICS                                 3.0  0.661667  0.039678  0.620   \n",
      "C.W. OF IND. STATES                    12.0  0.480167  0.079670  0.361   \n",
      "EASTERN EUROPE                         12.0  0.598667  0.040392  0.549   \n",
      "LATIN AMER. & CARIB                    45.0  0.621800  0.187181  0.000   \n",
      "NEAR EAST                              16.0  0.530000  0.166805  0.197   \n",
      "NORTHERN AFRICA                         6.0  0.432000  0.085685  0.298   \n",
      "NORTHERN AMERICA                        5.0  0.472200  0.437167  0.000   \n",
      "OCEANIA                                21.0  0.463952  0.302063  0.000   \n",
      "SUB-SAHARAN AFRICA                     51.0  0.432118  0.172863  0.000   \n",
      "WESTERN EUROPE                         28.0  0.612536  0.271883  0.000   \n",
      "\n",
      "                                                                      \n",
      "                                         25%     50%      75%    max  \n",
      "Region                                                                \n",
      "ASIA (EX. NEAR EAST)                 0.39750  0.4950  0.60725  0.927  \n",
      "BALTICS                              0.64300  0.6660  0.68250  0.699  \n",
      "C.W. OF IND. STATES                  0.41625  0.4595  0.55350  0.591  \n",
      "EASTERN EUROPE                       0.57050  0.5910  0.62650  0.672  \n",
      "LATIN AMER. & CARIB                  0.54100  0.6150  0.74300  0.954  \n",
      "NEAR EAST                            0.38850  0.5840  0.66025  0.765  \n",
      "NORTHERN AFRICA                      0.40625  0.4255  0.47625  0.550  \n",
      "NORTHERN AMERICA                     0.00000  0.6840  0.78700  0.890  \n",
      "OCEANIA                              0.26600  0.5590  0.70000  0.818  \n",
      "SUB-SAHARAN AFRICA                   0.35700  0.4100  0.55950  0.730  \n",
      "WESTERN EUROPE                       0.60600  0.6915  0.75125  0.930  \n",
      "\n",
      "[11 rows x 144 columns]\n"
     ]
    }
   ],
   "execution_count": 18
  },
  {
   "metadata": {},
   "cell_type": "markdown",
   "source": "---\n",
   "id": "74904fc798f7b420"
  },
  {
   "metadata": {
    "ExecuteTime": {
     "end_time": "2025-09-04T23:05:57.306470Z",
     "start_time": "2025-09-04T23:05:57.299826Z"
    }
   },
   "cell_type": "code",
   "source": [
    "# Criando metodos customizados\n",
    "# retorna 90% do valor\n",
    "def tenpercent(x):\n",
    "    return x * 0.9\n",
    "# mostrando a taxa de mortalidade dos paises\n",
    "deathrate1 = dfpaises['Deathrate']\n",
    "\n",
    "# aplicando o metodo customizado por meio do apply\n",
    "# diminuindo a taxa de mortalidade em 10%\n",
    "deathrate2 = deathrate1.apply(tenpercent)\n",
    "\n",
    "# concatenando e mostrando os resultados\n",
    "pd.concat([deathrate1, deathrate2], axis=1)"
   ],
   "id": "efffe8f05547db8c",
   "outputs": [
    {
     "data": {
      "text/plain": [
       "     Deathrate  Deathrate\n",
       "0        20.34     18.306\n",
       "1         5.22      4.698\n",
       "2         4.61      4.149\n",
       "3         3.27      2.943\n",
       "4         6.25      5.625\n",
       "..         ...        ...\n",
       "222       3.92      3.528\n",
       "223       0.00      0.000\n",
       "224       8.30      7.470\n",
       "225      19.93     17.937\n",
       "226      21.84     19.656\n",
       "\n",
       "[227 rows x 2 columns]"
      ],
      "text/html": [
       "<div>\n",
       "<style scoped>\n",
       "    .dataframe tbody tr th:only-of-type {\n",
       "        vertical-align: middle;\n",
       "    }\n",
       "\n",
       "    .dataframe tbody tr th {\n",
       "        vertical-align: top;\n",
       "    }\n",
       "\n",
       "    .dataframe thead th {\n",
       "        text-align: right;\n",
       "    }\n",
       "</style>\n",
       "<table border=\"1\" class=\"dataframe\">\n",
       "  <thead>\n",
       "    <tr style=\"text-align: right;\">\n",
       "      <th></th>\n",
       "      <th>Deathrate</th>\n",
       "      <th>Deathrate</th>\n",
       "    </tr>\n",
       "  </thead>\n",
       "  <tbody>\n",
       "    <tr>\n",
       "      <th>0</th>\n",
       "      <td>20.34</td>\n",
       "      <td>18.306</td>\n",
       "    </tr>\n",
       "    <tr>\n",
       "      <th>1</th>\n",
       "      <td>5.22</td>\n",
       "      <td>4.698</td>\n",
       "    </tr>\n",
       "    <tr>\n",
       "      <th>2</th>\n",
       "      <td>4.61</td>\n",
       "      <td>4.149</td>\n",
       "    </tr>\n",
       "    <tr>\n",
       "      <th>3</th>\n",
       "      <td>3.27</td>\n",
       "      <td>2.943</td>\n",
       "    </tr>\n",
       "    <tr>\n",
       "      <th>4</th>\n",
       "      <td>6.25</td>\n",
       "      <td>5.625</td>\n",
       "    </tr>\n",
       "    <tr>\n",
       "      <th>...</th>\n",
       "      <td>...</td>\n",
       "      <td>...</td>\n",
       "    </tr>\n",
       "    <tr>\n",
       "      <th>222</th>\n",
       "      <td>3.92</td>\n",
       "      <td>3.528</td>\n",
       "    </tr>\n",
       "    <tr>\n",
       "      <th>223</th>\n",
       "      <td>0.00</td>\n",
       "      <td>0.000</td>\n",
       "    </tr>\n",
       "    <tr>\n",
       "      <th>224</th>\n",
       "      <td>8.30</td>\n",
       "      <td>7.470</td>\n",
       "    </tr>\n",
       "    <tr>\n",
       "      <th>225</th>\n",
       "      <td>19.93</td>\n",
       "      <td>17.937</td>\n",
       "    </tr>\n",
       "    <tr>\n",
       "      <th>226</th>\n",
       "      <td>21.84</td>\n",
       "      <td>19.656</td>\n",
       "    </tr>\n",
       "  </tbody>\n",
       "</table>\n",
       "<p>227 rows × 2 columns</p>\n",
       "</div>"
      ]
     },
     "execution_count": 20,
     "metadata": {},
     "output_type": "execute_result"
    }
   ],
   "execution_count": 20
  }
 ],
 "metadata": {
  "kernelspec": {
   "display_name": "Python 3 (ipykernel)",
   "language": "python",
   "name": "python3"
  },
  "language_info": {
   "codemirror_mode": {
    "name": "ipython",
    "version": 2
   },
   "file_extension": ".py",
   "mimetype": "text/x-python",
   "name": "python",
   "nbconvert_exporter": "python",
   "pygments_lexer": "ipython2",
   "version": "2.7.6"
  }
 },
 "nbformat": 4,
 "nbformat_minor": 5
}
